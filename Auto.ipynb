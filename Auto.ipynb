{
  "cells": [
    {
      "cell_type": "code",
      "execution_count": null,
      "id": "db8b0236",
      "metadata": {
        "id": "db8b0236"
      },
      "outputs": [],
      "source": [
        "import pandas as pd"
      ]
    },
    {
      "cell_type": "code",
      "source": [
        "!pip install xgboost"
      ],
      "metadata": {
        "colab": {
          "base_uri": "https://localhost:8080/"
        },
        "id": "KwyYzcC4iaV8",
        "outputId": "202dcc6c-44e7-4ea5-d0fc-658f23466f05"
      },
      "id": "KwyYzcC4iaV8",
      "execution_count": null,
      "outputs": [
        {
          "output_type": "stream",
          "name": "stdout",
          "text": [
            "Looking in indexes: https://pypi.org/simple, https://us-python.pkg.dev/colab-wheels/public/simple/\n",
            "Requirement already satisfied: xgboost in /usr/local/lib/python3.7/dist-packages (0.90)\n",
            "Requirement already satisfied: numpy in /usr/local/lib/python3.7/dist-packages (from xgboost) (1.21.6)\n",
            "Requirement already satisfied: scipy in /usr/local/lib/python3.7/dist-packages (from xgboost) (1.4.1)\n"
          ]
        }
      ]
    },
    {
      "cell_type": "code",
      "execution_count": null,
      "id": "171d96b3",
      "metadata": {
        "id": "171d96b3"
      },
      "outputs": [],
      "source": [
        "df = pd.read_csv(\"USA_Housing.csv\")\n",
        "\n",
        "y = df[\"Price\"]\n",
        "X = df.drop([\"Address\",\"Price\"], axis = 1)"
      ]
    },
    {
      "cell_type": "code",
      "execution_count": null,
      "id": "51712f78",
      "metadata": {
        "id": "51712f78"
      },
      "outputs": [],
      "source": [
        "df = pd.read_csv(\"heart.csv\")\n",
        "\n",
        "y = df[\"output\"]\n",
        "X = df.drop(\"output\", axis = 1)"
      ]
    },
    {
      "cell_type": "code",
      "execution_count": null,
      "id": "28c9319b",
      "metadata": {
        "id": "28c9319b"
      },
      "outputs": [],
      "source": [
        "# from sklearn.model_selection import train_test_split\n",
        "\n",
        "# X_train, X_test, y_train, y_test = train_test_split(X, y, test_size=0.33, random_state=42)"
      ]
    },
    {
      "cell_type": "code",
      "source": [
        "##non linear classification guassian support vector, naive bayes, random forest, xgboosting, neural network\n",
        "#For linear classification: SVM , boosting or random forest but best SVM\n",
        "#Regression r jonno NN use kore dekhte paro\n",
        "\n",
        "#SVM, guassian support vector, logistic, naive bayes, random forest, xgboosting, nueral network"
      ],
      "metadata": {
        "id": "0tqMe2KJVcxZ"
      },
      "id": "0tqMe2KJVcxZ",
      "execution_count": null,
      "outputs": []
    },
    {
      "cell_type": "code",
      "execution_count": null,
      "id": "42c1f408",
      "metadata": {
        "id": "42c1f408"
      },
      "outputs": [],
      "source": [
        "from sklearn.ensemble import RandomForestClassifier\n",
        "from sklearn.svm import SVC\n",
        "from sklearn.linear_model import LogisticRegression\n",
        "from sklearn.neighbors import KNeighborsRegressor, KNeighborsClassifier\n",
        "from sklearn.svm import SVR\n",
        "from sklearn.naive_bayes import GaussianNB\n",
        "from xgboost import XGBClassifier, XGBRegressor"
      ]
    },
    {
      "cell_type": "code",
      "execution_count": null,
      "id": "a9d848c9",
      "metadata": {
        "id": "a9d848c9"
      },
      "outputs": [],
      "source": [
        "from sklearn.model_selection import train_test_split\n",
        "from sklearn.base import is_classifier, is_regressor\n",
        "from sklearn.metrics import log_loss\n",
        "from sklearn.metrics import mean_squared_error"
      ]
    },
    {
      "cell_type": "code",
      "execution_count": null,
      "id": "147d21b5",
      "metadata": {
        "id": "147d21b5"
      },
      "outputs": [],
      "source": [
        "class AutoML:\n",
        "    \n",
        "    def __init__(self,mode):\n",
        "        self.mode = mode\n",
        "        self.Model = [RandomForestClassifier, SVC, SVR, KNeighborsRegressor,KNeighborsClassifier, GaussianNB, LogisticRegression, XGBClassifier,XGBRegressor] # add model class\n",
        "        \n",
        "    def fit(self,X,y):\n",
        "        self.traintestsplit(X,y)\n",
        "        self.ml_models()\n",
        "    \n",
        "    def traintestsplit(self, X,y):\n",
        "        X_train, X_test, y_train, y_test = train_test_split(X, y, test_size=0.33, random_state=42)\n",
        "        \n",
        "        self.X_train = X_train\n",
        "        self.X_test = X_test\n",
        "        self.y_train = y_train\n",
        "        self.y_test = y_test\n",
        "        \n",
        "    def score(self,fitted_model):      \n",
        "        yield fitted_model.score(self.X_train,self.y_train)\n",
        "        yield fitted_model.score(self.X_test,self.y_test)\n",
        "        \n",
        "        if is_classifier(fitted_model): # For classifier\n",
        "            yield log_loss(self.y_train, fitted_model.predict_proba(self.X_train))\n",
        "            yield log_loss(self.y_test, fitted_model.predict_proba(self.X_test))\n",
        "        elif is_regressor(fitted_model): # For Regressor\n",
        "            yield mean_squared_error(self.y_train, fitted_model.predict(self.X_train))\n",
        "            yield mean_squared_error(self.y_test, fitted_model.predict(self.X_test))\n",
        "            \n",
        "    def result(self,fitted_model):\n",
        "        score_gen = self.score(fitted_model)\n",
        "        \n",
        "        print(\"Model : {}\".format(fitted_model.__class__.__name__))\n",
        "        \n",
        "        stats = [\"Training Accuracy\", \"Testing Accuracy\", \"Training Loss\", \"Testing Loss\"]\n",
        "        for attribute in stats:\n",
        "            print(\"{} : {}\".format(attribute, next(score_gen)))\n",
        "            \n",
        "        print()\n",
        "    \n",
        "    def ml_models(self):\n",
        "        Model = self.Model\n",
        "        for class_ in Model:\n",
        "            if self.mode == \"classification\":\n",
        "                if is_classifier(class_):\n",
        "                    if class_.__name__ == \"SVC\":\n",
        "                        model = class_(probability=True)\n",
        "                    else:\n",
        "                        model = class_()                        \n",
        "                    model.fit(self.X_train,self.y_train)    \n",
        "                    self.result(model)\n",
        "            elif self.mode == \"regression\":\n",
        "                if is_regressor(class_):\n",
        "                    model = class_()                  \n",
        "                    model.fit(self.X_train,self.y_train)    \n",
        "                    self.result(model)"
      ]
    },
    {
      "cell_type": "code",
      "execution_count": null,
      "id": "422e7e00",
      "metadata": {
        "id": "422e7e00"
      },
      "outputs": [],
      "source": [
        "test = AutoML(\"regression\") # classification and regression"
      ]
    },
    {
      "cell_type": "code",
      "execution_count": null,
      "id": "fdf40596",
      "metadata": {
        "colab": {
          "base_uri": "https://localhost:8080/"
        },
        "id": "fdf40596",
        "outputId": "ee5bc229-cabf-420a-a4b6-52153431813f"
      },
      "outputs": [
        {
          "output_type": "stream",
          "name": "stdout",
          "text": [
            "Model : SVR\n",
            "Training Accuracy : 0.000384649355099409\n",
            "Testing Accuracy : -0.00014117371829236447\n",
            "Training Loss : 126914856667.87668\n",
            "Testing Loss : 119989341076.62985\n",
            "\n",
            "Model : KNeighborsRegressor\n",
            "Training Accuracy : 0.6706587221931144\n",
            "Testing Accuracy : 0.47896118712534363\n",
            "Training Loss : 41814384943.87878\n",
            "Testing Loss : 62510279023.65819\n",
            "\n",
            "[18:21:58] WARNING: /workspace/src/objective/regression_obj.cu:152: reg:linear is now deprecated in favor of reg:squarederror.\n",
            "Model : XGBRegressor\n",
            "Training Accuracy : 0.9293195440074761\n",
            "Testing Accuracy : 0.9029090435950033\n",
            "Training Loss : 8973851727.791187\n",
            "Testing Loss : 11648235458.824081\n",
            "\n"
          ]
        }
      ],
      "source": [
        "test.fit(X,y)"
      ]
    },
    {
      "cell_type": "code",
      "source": [
        ""
      ],
      "metadata": {
        "id": "gmGMbXa7hLwq"
      },
      "id": "gmGMbXa7hLwq",
      "execution_count": null,
      "outputs": []
    }
  ],
  "metadata": {
    "kernelspec": {
      "display_name": "Python 3 (ipykernel)",
      "language": "python",
      "name": "python3"
    },
    "language_info": {
      "codemirror_mode": {
        "name": "ipython",
        "version": 3
      },
      "file_extension": ".py",
      "mimetype": "text/x-python",
      "name": "python",
      "nbconvert_exporter": "python",
      "pygments_lexer": "ipython3",
      "version": "3.9.7"
    },
    "colab": {
      "name": "Test.ipynb",
      "provenance": [],
      "collapsed_sections": []
    }
  },
  "nbformat": 4,
  "nbformat_minor": 5
}